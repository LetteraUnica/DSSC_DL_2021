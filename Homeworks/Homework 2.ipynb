{
 "cells": [
  {
   "cell_type": "code",
   "execution_count": 39,
   "id": "indoor-massachusetts",
   "metadata": {},
   "outputs": [],
   "source": [
    "import torch\n",
    "from torch import nn\n",
    "from torch.utils.data import Dataset, DataLoader\n",
    "import pylab as pl"
   ]
  },
  {
   "cell_type": "code",
   "execution_count": 179,
   "id": "corrected-valve",
   "metadata": {},
   "outputs": [
    {
     "name": "stderr",
     "output_type": "stream",
     "text": [
      "<ipython-input-179-d802d80a2d9f>:20: UserWarning: To copy construct from a tensor, it is recommended to use sourceTensor.clone().detach() or sourceTensor.clone().detach().requires_grad_(True), rather than torch.tensor(sourceTensor).\n",
      "  self.X = torch.tensor(X)\n"
     ]
    }
   ],
   "source": [
    "class MLP(nn.Module):\n",
    "    def __init__(self):\n",
    "        super().__init__()\n",
    "        \n",
    "        self.hidden = nn.Linear(6, 4)\n",
    "        self.output = nn.Linear(4, 1)\n",
    "        \n",
    "    def forward(self, X):\n",
    "        sigmoid = torch.sigmoid\n",
    "        out = sigmoid(self.hidden(X))\n",
    "        \n",
    "        return sigmoid(self.output(out))\n",
    "    \n",
    "\n",
    "class Load_matrix(DataLoader):\n",
    "    \"\"\"\n",
    "    Simple dataloader given a matrix with input output pairs\n",
    "    \"\"\"\n",
    "    def __init__(self, X, y=None):\n",
    "        self.X = torch.tensor(X)\n",
    "        self.y = torch.Tensor(y)\n",
    "            \n",
    "    def __len__(self):\n",
    "        return self.X.size()[0]\n",
    "    \n",
    "    def __getitem__(self, index):\n",
    "        return self.X[index, :], self.y[index]\n",
    "\n",
    "\n",
    "def is_symmetric(x):\n",
    "    for i in range(len(x)//2):\n",
    "        if x[i] != x[-(i+1)]:\n",
    "            return 0\n",
    "    return 1\n",
    "    \n",
    "def create_symmetrical_vectors(size=6):\n",
    "    X = torch.empty((2**size, size))\n",
    "    \n",
    "    x = torch.arange((2**size))\n",
    "    for n in range(size):\n",
    "        m = 2**(n+1)\n",
    "        # I don't know why this works\n",
    "        X[:, n] = x%m > 2**n - 1\n",
    "        \n",
    "    y = torch.Tensor([is_symmetric(X[i, :]) for i in range(2**size)])\n",
    "    \n",
    "    return X, y\n",
    "\n",
    "X, y = create_symmetrical_vectors(6)\n",
    "dataset = Load_matrix(X, y)\n",
    "train = DataLoader(dataset, batch_size=64)"
   ]
  },
  {
   "cell_type": "code",
   "execution_count": 187,
   "id": "affecting-bread",
   "metadata": {},
   "outputs": [
    {
     "data": {
      "text/plain": [
       "[<matplotlib.lines.Line2D at 0x7f26938eddf0>]"
      ]
     },
     "execution_count": 187,
     "metadata": {},
     "output_type": "execute_result"
    },
    {
     "data": {
      "image/png": "[encoded data removed]",
      "text/plain": [
       "<Figure size 432x288 with 1 Axes>"
      ]
     },
     "metadata": {
      "needs_background": "light"
     },
     "output_type": "display_data"
    }
   ],
   "source": [
    "net = MLP()\n",
    "\n",
    "criterion = nn.MSELoss(reduction=\"sum\")\n",
    "optimizer = torch.optim.SGD(net.parameters(), lr=0.1)\n",
    "\n",
    "losses = []\n",
    "n_epochs = 2000\n",
    "for epoch in range(n_epochs):\n",
    "    for data in train:\n",
    "        inputs, labels = data\n",
    "        optimizer.zero_grad()\n",
    "        \n",
    "        outputs = net(inputs).ravel()\n",
    "        loss = criterion(outputs, labels)\n",
    "        loss.backward()\n",
    "        optimizer.step()\n",
    "        \n",
    "        losses.append(loss.item())\n",
    "        \n",
    "pl.plot(losses)"
   ]
  },
  {
   "cell_type": "code",
   "execution_count": 188,
   "id": "manufactured-revelation",
   "metadata": {},
   "outputs": [
    {
     "data": {
      "text/plain": [
       "tensor(0.0039, grad_fn=<DivBackward0>)"
      ]
     },
     "execution_count": 188,
     "metadata": {},
     "output_type": "execute_result"
    }
   ],
   "source": [
    "torch.sum((net(X).ravel() - y)**2)/64"
   ]
  },
  {
   "cell_type": "markdown",
   "id": "beneficial-draft",
   "metadata": {},
   "source": [
    "To get the same results of the paper we must train multiple times our model"
   ]
  },
  {
   "cell_type": "code",
   "execution_count": 189,
   "id": "diagnostic-trailer",
   "metadata": {},
   "outputs": [
    {
     "name": "stdout",
     "output_type": "stream",
     "text": [
      "Parameter containing:\n",
      "tensor([[-3.3184,  6.4990,  3.0688, -3.3791, -6.5461,  2.8939],\n",
      "        [-0.3761,  1.4526, -4.4371, -5.0403, -1.4185,  1.1402],\n",
      "        [ 0.0591,  2.7793,  2.8033, -0.0442, -2.8068,  2.8684],\n",
      "        [ 5.7977, -2.3215, -1.5462,  0.9158,  2.3248,  5.1423]],\n",
      "       requires_grad=True)\n",
      "Parameter containing:\n",
      "tensor([-2.6861,  0.7987, -3.1767, -1.2023], requires_grad=True)\n",
      "Parameter containing:\n",
      "tensor([[-11.5512,   6.0985,   9.4167,  -6.4311]], requires_grad=True)\n",
      "Parameter containing:\n",
      "tensor([-0.2493], requires_grad=True)\n"
     ]
    }
   ],
   "source": [
    "for param in net.parameters():\n",
    "    print(param)"
   ]
  },
  {
   "cell_type": "code",
   "execution_count": null,
   "id": "postal-digest",
   "metadata": {},
   "outputs": [],
   "source": []
  }
 ],
 "metadata": {
  "kernelspec": {
   "display_name": "Python 3",
   "language": "python",
   "name": "python3"
  },
  "language_info": {
   "codemirror_mode": {
    "name": "ipython",
    "version": 3
   },
   "file_extension": ".py",
   "mimetype": "text/x-python",
   "name": "python",
   "nbconvert_exporter": "python",
   "pygments_lexer": "ipython3",
   "version": "3.8.8"
  }
 },
 "nbformat": 4,
 "nbformat_minor": 5
}
