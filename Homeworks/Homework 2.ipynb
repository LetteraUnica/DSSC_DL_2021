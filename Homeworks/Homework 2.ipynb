{
 "cells": [
  {
   "cell_type": "markdown",
   "id": "approximate-field",
   "metadata": {},
   "source": [
    "### Deep Learning Homework 2"
   ]
  },
  {
   "cell_type": "markdown",
   "id": "dimensional-pollution",
   "metadata": {},
   "source": [
    "Reconstruct in PyTorch the first experiment in Learning representations by back-propagating errors with learning rule in eq.8 (gradient descent without momentum) (alternative link to paper).\n",
    "\n",
    "Try to be as close as possible to the original protocol, except for what regards the learning rule, and perhaps the random initialization method\n",
    "\n",
    "1. Read the paper (don’t worry if you don’t understand the other experiments in detail, because our focus is on the first one)\n",
    "2. Create the data, the model and everything is needed (do not use dataloaders if you don’t know yet how they work)\n",
    "3. Train the model\n",
    "4. Inspect the weights you obtained and check if they provide a solution to the problem\n",
    "\n",
    "Compare the solution to the solution reported in the paper"
   ]
  },
  {
   "cell_type": "code",
   "execution_count": 1,
   "id": "caring-wrapping",
   "metadata": {},
   "outputs": [],
   "source": [
    "import torch\n",
    "from torch import nn\n",
    "from torch.utils.data import Dataset, DataLoader\n",
    "import pylab as pl\n",
    "from IPython.display import clear_output"
   ]
  },
  {
   "cell_type": "code",
   "execution_count": 2,
   "id": "adaptive-rapid",
   "metadata": {},
   "outputs": [],
   "source": [
    "# 2. Create the data, the model and everything that is needed\n",
    "\n",
    "class MLP(nn.Module):\n",
    "    \"\"\"\n",
    "    Implements the neural network of example 1 of the paper \n",
    "    \"Learning representations by back-propagating errors\"\n",
    "    \"\"\"\n",
    "    def __init__(self):\n",
    "        super().__init__()\n",
    "        \n",
    "        self.hidden = nn.Linear(6, 2)\n",
    "        self.output = nn.Linear(2, 1)\n",
    "        \n",
    "    def forward(self, X):\n",
    "        sigmoid = torch.sigmoid\n",
    "        out = sigmoid(self.hidden(X))\n",
    "        \n",
    "        return sigmoid(self.output(out))\n",
    "    \n",
    "\n",
    "class Load_matrix(DataLoader):\n",
    "    \"\"\"\n",
    "    Simple dataloader given the data matrix X and response y\n",
    "    \n",
    "    Parameters\n",
    "    ----------\n",
    "    X: 2d torch.Tensor or 2d numpy.ndarray\n",
    "        The training input samples\n",
    "    y: 1d torch.Tensor or 1d numpy.ndarray\n",
    "        The response variable\n",
    "    \"\"\"\n",
    "    def __init__(self, X, y):\n",
    "        self.X = torch.Tensor(X)\n",
    "        self.y = torch.Tensor(y)\n",
    "            \n",
    "    def __len__(self):\n",
    "        return self.X.size()[0]\n",
    "    \n",
    "    def __getitem__(self, index):\n",
    "        return self.X[index, :], self.y[index]\n",
    "\n",
    "\n",
    "def is_symmetric(x):\n",
    "    \"\"\"\n",
    "    Returns 1 if x is symmetric, 0 otherwise\n",
    "    \n",
    "    Parameters\n",
    "    ----------\n",
    "    x: 1d iterable aka list, tuple, 1d torch.tensor, 1d numpy.ndarray, ecc\n",
    "        The vector to compute the symmetry\n",
    "    \"\"\"\n",
    "    for i in range(len(x)//2):\n",
    "        if x[i] != x[-(i+1)]:\n",
    "            return 0\n",
    "    return 1\n",
    "    \n",
    "def create_symmetrical_vectors(n=6):\n",
    "    \"\"\"\n",
    "    Returns a matrix X with all the possible 0/1 combinations of n variables\n",
    "    and a vector y which tells if the corresponding combination is symmmetric\n",
    "    \n",
    "    Parameters\n",
    "    ----------\n",
    "    n: int\n",
    "        Number of variables to consider\n",
    "        The number of elements of X goes like n*2^n so be careful\n",
    "        Default is n=6\n",
    "    \"\"\"\n",
    "    X = torch.empty((2**n, n))\n",
    "    \n",
    "    # Suppose I have a matrix A with all the combinations of n variables\n",
    "    # I can create a matrix B=[(A, 1), (A, 0)] which will contain all the\n",
    "    # combinations of n+1 variables, this is what the for loop does\n",
    "    x = torch.arange((2**n))\n",
    "    for i in range(n):\n",
    "        m = 2**(i+1)\n",
    "        X[:, i] = x%m < 2**i\n",
    "    \n",
    "    # Finally I create the response vector y\n",
    "    y = torch.Tensor([is_symmetric(X[i, :]) for i in range(2**n)])\n",
    "    \n",
    "    return X, y"
   ]
  },
  {
   "cell_type": "code",
   "execution_count": 3,
   "id": "funky-switch",
   "metadata": {},
   "outputs": [
    {
     "name": "stdout",
     "output_type": "stream",
     "text": [
      "After 20 models we converged to 0.26772287487983704\n"
     ]
    },
    {
     "data": {
      "text/plain": [
       "Text(0.5, 1.0, 'Learning curve')"
      ]
     },
     "execution_count": 3,
     "metadata": {},
     "output_type": "execute_result"
    },
    {
     "data": {
      "image/png": "[encoded data removed]",
      "text/plain": [
       "<Figure size 432x288 with 1 Axes>"
      ]
     },
     "metadata": {
      "needs_background": "light"
     },
     "output_type": "display_data"
    }
   ],
   "source": [
    "# 3. Train the model\n",
    "\n",
    "def train_model(model, trainset, n_epochs, criterion, optimizer):\n",
    "    \"\"\"\n",
    "    Trains a model and returns the loss at each epoch\n",
    "    \"\"\"\n",
    "    losses = []\n",
    "    model.train()\n",
    "    for epoch in range(n_epochs):\n",
    "        for data in trainset:\n",
    "            inputs, labels = data\n",
    "            optimizer.zero_grad()\n",
    "\n",
    "            outputs = model(inputs).ravel()\n",
    "            loss = criterion(outputs, labels)\n",
    "            loss.backward()\n",
    "            optimizer.step()\n",
    "\n",
    "        losses.append(loss.item())\n",
    "    \n",
    "    return losses\n",
    "\n",
    "\n",
    "# Create the data\n",
    "X, y = create_symmetrical_vectors(6)\n",
    "dataset = Load_matrix(X, y)\n",
    "\n",
    "# In the paper they use all the dataset at once, i.e. batch_size=64\n",
    "trainset = DataLoader(dataset, batch_size=64)\n",
    "# Loss function used in the paper\n",
    "criterion = nn.MSELoss(reduction=\"sum\")\n",
    "# The net discussed in the paper converged in about 1200 iterations\n",
    "n_epochs=2000\n",
    "\n",
    "# Here I train models until I get a good one\n",
    "models_tried = 0\n",
    "current_loss = 10\n",
    "while(current_loss > 1):\n",
    "    # Initialize the net\n",
    "    net = MLP()\n",
    "    # Optimizer used in the paper with corresponding learning rate\n",
    "    optimizer = torch.optim.SGD(net.parameters(), lr=0.1)\n",
    "    \n",
    "    models_tried += 1\n",
    "    losses = train_model(net, trainset, n_epochs, criterion, optimizer)\n",
    "    current_loss = losses[-1]\n",
    "    print(\"current loss :\", current_loss)\n",
    "\n",
    "clear_output()\n",
    "print(f\"After {models_tried} models we converged to {losses[-1]}\")\n",
    "\n",
    "pl.plot(losses)\n",
    "pl.xlabel(\"Number of epochs\")\n",
    "pl.ylabel(\"MSE loss\")\n",
    "pl.title(\"Learning curve\")"
   ]
  },
  {
   "cell_type": "markdown",
   "id": "collect-venture",
   "metadata": {},
   "source": [
    "Sometimes the model does not converge to a good minima and remains stuck, we noticed that this happens quite a lot and depends on the initial value of the parameters so we decided to train a lot of nets until a good initial set of parameters is found"
   ]
  },
  {
   "cell_type": "code",
   "execution_count": 5,
   "id": "polished-patio",
   "metadata": {},
   "outputs": [
    {
     "name": "stdout",
     "output_type": "stream",
     "text": [
      "Parameter containing:\n",
      "tensor([[-2.3888, -9.4467, -4.7569,  4.7551,  9.4452,  2.3865],\n",
      "        [ 2.3567,  9.3287,  4.6966, -4.6986, -9.3304, -2.3601]],\n",
      "       requires_grad=True)\n",
      "Parameter containing:\n",
      "tensor([-1.8794, -1.8572], requires_grad=True)\n",
      "Parameter containing:\n",
      "tensor([[-11.2809, -11.3158]], requires_grad=True)\n",
      "Parameter containing:\n",
      "tensor([4.8864], requires_grad=True)\n"
     ]
    }
   ],
   "source": [
    "# 4. Inspect the weights we obtained and check if they provide a solution to the problem\n",
    "\n",
    "for param in net.parameters():\n",
    "    print(param)"
   ]
  },
  {
   "cell_type": "markdown",
   "id": "musical-share",
   "metadata": {},
   "source": [
    "We see that the parameters are similar to the ones in the paper, the parameters of the two hidden units have equal modulo but opposite sign and doubles in magnitude like discussed in the paper. We now examine the accuracy and the MSE loss of our model"
   ]
  },
  {
   "cell_type": "code",
   "execution_count": 6,
   "id": "engaged-leader",
   "metadata": {},
   "outputs": [
    {
     "name": "stdout",
     "output_type": "stream",
     "text": [
      "Accuracy: tensor(1.) MSE loss: 0.26772287487983704\n"
     ]
    }
   ],
   "source": [
    "def accuracy(y_pred, y_true):\n",
    "    return torch.sum(torch.round(y_pred) == y_true) / y_true.size()[0]\n",
    "\n",
    "net.eval()\n",
    "print(\"Accuracy:\", accuracy(net(X).ravel(), y), \"MSE loss:\", losses[-1])"
   ]
  },
  {
   "cell_type": "markdown",
   "id": "willing-basin",
   "metadata": {},
   "source": [
    "We see that the model doesn't misclassify any data points and that the MSE is quite low considering that we are summing the MSE of 64 points and not dividing by the number of observations"
   ]
  },
  {
   "cell_type": "markdown",
   "id": "tropical-native",
   "metadata": {},
   "source": [
    "### Conclusion\n",
    "\n",
    "To get the results reported in the paper we had to retrain multiple times the same model with different values of the initial parameters and increase the number of epochs to 2000 vs 1425 of the paper, however we must say that in the paper the authors used Gradient descent with momentum while we used the classic version of gradient descent without momentum.\n",
    "\n",
    "We also tried to train our algorithm with a binary cross entropy loss criterion (nn.BCELoss) and we noticed a much faster convergence, explored in the cell below"
   ]
  },
  {
   "cell_type": "code",
   "execution_count": 7,
   "id": "proof-accuracy",
   "metadata": {},
   "outputs": [
    {
     "name": "stdout",
     "output_type": "stream",
     "text": [
      "After 1 models we converged to 0.12354664504528046\n",
      "Accuracy: tensor(1.)\n"
     ]
    },
    {
     "data": {
      "image/png": "[encoded data removed]",
      "text/plain": [
       "<Figure size 432x288 with 1 Axes>"
      ]
     },
     "metadata": {
      "needs_background": "light"
     },
     "output_type": "display_data"
    }
   ],
   "source": [
    "# BCE loss\n",
    "criterion = nn.BCELoss(reduction=\"sum\")\n",
    "models_tried = 0\n",
    "current_loss = 10\n",
    "while(current_loss > 1):\n",
    "    # Initialize the net\n",
    "    net = MLP()\n",
    "    # Optimizer used in the paper with corresponding learning rate\n",
    "    optimizer = torch.optim.SGD(net.parameters(), lr=0.1)\n",
    "    \n",
    "    models_tried += 1\n",
    "    losses = train_model(net, trainset, n_epochs, criterion, optimizer)\n",
    "    current_loss = losses[-1]\n",
    "    print(\"current loss :\", current_loss)\n",
    "\n",
    "clear_output()\n",
    "print(f\"After {models_tried} models we converged to {losses[-1]}\")\n",
    "\n",
    "pl.plot(losses)\n",
    "pl.xlabel(\"Number of epochs\")\n",
    "pl.ylabel(\"BCE loss\")\n",
    "pl.title(\"Learning curve\")\n",
    "\n",
    "print(\"Accuracy:\", accuracy(net(X).ravel(), y))"
   ]
  }
 ],
 "metadata": {
  "kernelspec": {
   "display_name": "Python 3",
   "language": "python",
   "name": "python3"
  },
  "language_info": {
   "codemirror_mode": {
    "name": "ipython",
    "version": 3
   },
   "file_extension": ".py",
   "mimetype": "text/x-python",
   "name": "python",
   "nbconvert_exporter": "python",
   "pygments_lexer": "ipython3",
   "version": "3.8.8"
  }
 },
 "nbformat": 4,
 "nbformat_minor": 5
}
