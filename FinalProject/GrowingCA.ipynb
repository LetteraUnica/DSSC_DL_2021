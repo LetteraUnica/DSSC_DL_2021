{
 "cells": [
  {
   "cell_type": "code",
   "execution_count": 1,
   "id": "16ac16af-7553-4000-8f56-8cc05ce8a971",
   "metadata": {},
   "outputs": [],
   "source": [
    "import torch\n",
    "from torch import nn\n",
    "import torch.nn.functional as F\n",
    "import numpy as np\n",
    "import pylab as pl"
   ]
  },
  {
   "cell_type": "code",
   "execution_count": 2,
   "id": "d06172e8-0640-4a2b-b07b-98223465e707",
   "metadata": {},
   "outputs": [],
   "source": [
    "N_CHANNELS = 16        # Number of CA state channels\n",
    "TARGET_PADDING = 16   # Number of pixels used to pad the target image border\n",
    "TARGET_SIZE = 40\n",
    "BATCH_SIZE = 8\n",
    "N_ITERS = 80\n",
    "POOL_SIZE = 1024\n",
    "CELL_FIRE_RATE = 0.5"
   ]
  },
  {
   "cell_type": "code",
   "execution_count": 11,
   "id": "a3a6eba9-f090-41b3-8639-1904a9fcb207",
   "metadata": {},
   "outputs": [
    {
     "data": {
      "text/plain": [
       "torch.Size([3, 3, 5, 5])"
      ]
     },
     "execution_count": 11,
     "metadata": {},
     "output_type": "execute_result"
    }
   ],
   "source": [
    "def wrap_edges(x):\n",
    "    return F.pad(x, (1,1,1,1), 'circular', 0)\n",
    "\n",
    "def get_living_mask(x):\n",
    "    alpha = x[:, 3:4, :, :]\n",
    "    return F.max_pool2d(wrap_edges(alpha), 3, stride=1) > 0.1\n",
    "\n",
    "class CAModel(nn.Module):\n",
    "    def __init__(self, n_channels=16, fire_rate=0.5):\n",
    "        super().__init__()\n",
    "        \n",
    "        self.n_channels = n_channels\n",
    "        self.fire_rate = fire_rate\n",
    "        \n",
    "        self.layers = nn.Sequential(nn.Conv2d(n_channels*3, 128, 1),\n",
    "                                    nn.ReLU(),\n",
    "                                    nn.Conv2d(128, n_channels, 1))\n",
    "        \n",
    "\n",
    "    def perceive(self, x, angle=0.):\n",
    "        identity = torch.tensor([[0.,0.,0.],\n",
    "                                 [0.,1.,0.],\n",
    "                                 [0.,0.,0.]])\n",
    "        dx = torch.tensor([[-0.125,0.,0.125],\n",
    "                           [-0.25 ,0.,0.25 ],\n",
    "                           [-0.125,0.,0.125]])\n",
    "        dy = dx.T\n",
    "        \n",
    "        angle = torch.tensor(angle)\n",
    "        c, s = torch.cos(angle), torch.sin(angle)\n",
    "        dx, dy = c*dx - s*dy, s*dx + c*dy\n",
    "        \n",
    "        \n",
    "        all_filters = torch.stack((identity, dx, dy))\n",
    "        all_filters_batch = all_filters.repeat(self.n_channels,1,1).unsqueeze(1)\n",
    "        return F.conv2d(wrap_edges(x), all_filters_batch, groups=self.n_channels)\n",
    "    \n",
    "\n",
    "    def forward(self, x, angle=0., step_size=1.):\n",
    "        pre_life_mask = get_living_mask(x)\n",
    "        \n",
    "        dx = self.layers(self.perceive(x, angle)) * step_size\n",
    "        update_mask = torch.rand(x[:,:1,:,:].size()) < self.fire_rate\n",
    "        x += dx*update_mask.float()\n",
    "        \n",
    "        post_life_mask = get_living_mask(x)\n",
    "        life_mask = pre_life_mask & post_life_mask\n",
    "\n",
    "        return x * life_mask.float()\n",
    "    \n",
    "    \n",
    "    def evolve(self, x, iters, angle=0., step_size=1.):\n",
    "        for i in range(iters):\n",
    "            x = self.forward(x, angle=0., step_size=1)\n",
    "        \n",
    "        return x\n",
    "\n",
    "    \n",
    "ca = CAModel(n_channels=1)\n",
    "\n",
    "x = torch.ones((3,1,5,5))\n",
    "ca.perceive(x).shape"
   ]
  },
  {
   "cell_type": "code",
   "execution_count": 6,
   "id": "aab8cdf0-051a-4d61-ba8f-b80b65b77e4f",
   "metadata": {
    "tags": []
   },
   "outputs": [
    {
     "name": "stderr",
     "output_type": "stream",
     "text": [
      "Clipping input data to the valid range for imshow with RGB data ([0..1] for floats or [0..255] for integers).\n"
     ]
    },
    {
     "data": {
      "text/plain": [
       "<matplotlib.image.AxesImage at 0x7f0a760a2280>"
      ]
     },
     "execution_count": 6,
     "metadata": {},
     "output_type": "execute_result"
    },
    {
     "data": {
      "image/png": "[encoded data removed]",
      "text/plain": [
       "<Figure size 432x288 with 1 Axes>"
      ]
     },
     "metadata": {
      "needs_background": "light"
     },
     "output_type": "display_data"
    }
   ],
   "source": [
    "from torchvision.io import read_image, ImageReadMode\n",
    "import torchvision.transforms as T\n",
    "\n",
    "transforms = torch.nn.Sequential(\n",
    "    T.Resize((TARGET_SIZE, TARGET_SIZE))\n",
    ")\n",
    "\n",
    "target = read_image(\"splash.png\", ImageReadMode.RGB_ALPHA).float()\n",
    "target = transforms(target)\n",
    "target = target/255.\n",
    "\n",
    "pl.imshow(np.asarray(target.permute(1,2,0)))"
   ]
  },
  {
   "cell_type": "code",
   "execution_count": 7,
   "id": "0254b8e0-a5e0-4fcf-97b1-c07ca4561b64",
   "metadata": {},
   "outputs": [],
   "source": [
    "class SamplePool:\n",
    "    def __init__(self):\n",
    "        image_size = TARGET_SIZE + TARGET_PADDING\n",
    "        start_point = torch.zeros((POOL_SIZE, N_CHANNELS, image_size, image_size))\n",
    "        start_point[:, 3, image_size//2, image_size//2] = 1.\n",
    "        self.images = start_point\n",
    "        self.size = POOL_SIZE\n",
    "\n",
    "        \n",
    "    def sample(self, batch_size):\n",
    "        idx = np.random.choice(self.size, batch_size, False)\n",
    "        return self.images[idx], idx\n",
    "    \n",
    "    def update(self, new_images, idx):\n",
    "        self.images[idx] = new_images"
   ]
  },
  {
   "cell_type": "code",
   "execution_count": 8,
   "id": "5e27a725-169b-468e-81c6-f4062f2c2dfa",
   "metadata": {},
   "outputs": [
    {
     "data": {
      "text/plain": [
       "<matplotlib.image.AxesImage at 0x7f0a75dee6d0>"
      ]
     },
     "execution_count": 8,
     "metadata": {},
     "output_type": "execute_result"
    },
    {
     "data": {
      "image/png": "[encoded data removed]",
      "text/plain": [
       "<Figure size 432x288 with 1 Axes>"
      ]
     },
     "metadata": {
      "needs_background": "light"
     },
     "output_type": "display_data"
    }
   ],
   "source": [
    "pool = SamplePool()\n",
    "pl.imshow(np.asarray(pool.images[0].permute(1,2,0)[:,:,:4]))"
   ]
  },
  {
   "cell_type": "code",
   "execution_count": 9,
   "id": "e20b7bb5-b2d6-4125-8d49-2805c8650e99",
   "metadata": {},
   "outputs": [
    {
     "data": {
      "text/plain": [
       "tensor(0.4648)"
      ]
     },
     "execution_count": 9,
     "metadata": {},
     "output_type": "execute_result"
    }
   ],
   "source": [
    "def loss_fn(x):\n",
    "    transforms = torch.nn.Sequential(T.CenterCrop((TARGET_SIZE, TARGET_SIZE)))\n",
    "    return torch.mean((transforms(x)[:, :4, :, :] - target)**2)\n",
    "    \n",
    "loss_fn(pool.sample(16)[0])"
   ]
  },
  {
   "cell_type": "code",
   "execution_count": 12,
   "id": "52965608-1f9a-4028-adad-e3e6cf8679ca",
   "metadata": {},
   "outputs": [
    {
     "name": "stderr",
     "output_type": "stream",
     "text": [
      "/home/lettera/anaconda3/lib/python3.8/site-packages/torch/nn/functional.py:718: UserWarning: Named tensors and all their associated APIs are an experimental feature and subject to change. Please do not use them for anything important until they are released as stable. (Triggered internally at  ../c10/core/TensorImpl.h:1301.)\n",
      "  return torch.max_pool2d(input, kernel_size, stride, padding, dilation, ceil_mode)\n"
     ]
    }
   ],
   "source": [
    "model = CAModel()\n",
    "pool = SamplePool()\n",
    "optimizer = torch.optim.Adam(model.parameters())\n",
    "\n",
    "model.train()\n",
    "\n",
    "losses = []\n",
    "for i in range(10):\n",
    "    inputs, indexes = pool.sample(BATCH_SIZE)\n",
    "    optimizer.zero_grad()\n",
    "    \n",
    "    for j in range(N_ITERS):\n",
    "        inputs = model(inputs)\n",
    "    \n",
    "    loss = loss_fn(inputs)\n",
    "    loss.backward()\n",
    "    optimizer.step()\n",
    "    losses.append(loss)"
   ]
  },
  {
   "cell_type": "code",
   "execution_count": 14,
   "id": "5cb38c0f-0573-4528-83c8-d3898034315c",
   "metadata": {},
   "outputs": [
    {
     "data": {
      "text/plain": [
       "[tensor(1602.9103, grad_fn=<MeanBackward0>),\n",
       " tensor(41.0891, grad_fn=<MeanBackward0>),\n",
       " tensor(2.1563, grad_fn=<MeanBackward0>),\n",
       " tensor(2.3957, grad_fn=<MeanBackward0>),\n",
       " tensor(4.7275, grad_fn=<MeanBackward0>),\n",
       " tensor(5.8582, grad_fn=<MeanBackward0>),\n",
       " tensor(7.8698, grad_fn=<MeanBackward0>),\n",
       " tensor(6.9195, grad_fn=<MeanBackward0>),\n",
       " tensor(10.3878, grad_fn=<MeanBackward0>),\n",
       " tensor(8.0527, grad_fn=<MeanBackward0>)]"
      ]
     },
     "execution_count": 14,
     "metadata": {},
     "output_type": "execute_result"
    }
   ],
   "source": [
    "pl.plot(losses)"
   ]
  }
 ],
 "metadata": {
  "kernelspec": {
   "display_name": "Python 3.8.10 64-bit ('anaconda3': virtualenv)",
   "language": "python",
   "name": "python3810jvsc74a57bd0826ac774da20863171be87f505c983a23ca5099031a67b4f2c0e4fe6baa8958e"
  },
  "language_info": {
   "codemirror_mode": {
    "name": "ipython",
    "version": 3
   },
   "file_extension": ".py",
   "mimetype": "text/x-python",
   "name": "python",
   "nbconvert_exporter": "python",
   "pygments_lexer": "ipython3",
   "version": "3.8.10"
  }
 },
 "nbformat": 4,
 "nbformat_minor": 5
}
