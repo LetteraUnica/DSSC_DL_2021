{
 "cells": [
  {
   "cell_type": "code",
   "execution_count": 1,
   "metadata": {},
   "outputs": [],
   "source": [
    "import numpy as np\n",
    "import torch\n",
    "import torch.nn as nn\n",
    "import torch.nn.functional as F\n",
    "import torchvision\n",
    "import torchvision.transforms as transforms\n",
    "import pylab as pl"
   ]
  },
  {
   "cell_type": "code",
   "execution_count": null,
   "metadata": {},
   "outputs": [],
   "source": [
    "train_loader = torch.utils.data.DataLoader(\n",
    "  torchvision.datasets.MNIST('/files/', train=True, download=True,\n",
    "                             transform=torchvision.transforms.Compose([\n",
    "                               torchvision.transforms.ToTensor(),\n",
    "                               torchvision.transforms.Normalize(\n",
    "                                 (0.1307,), (0.3081,))\n",
    "                             ])),\n",
    "  batch_size=batch_size_train, shuffle=True)\n",
    "\n",
    "test_loader = torch.utils.data.DataLoader(\n",
    "  torchvision.datasets.MNIST('/files/', train=False, download=True,\n",
    "                             transform=torchvision.transforms.Compose([\n",
    "                               torchvision.transforms.ToTensor(),\n",
    "                               torchvision.transforms.Normalize(\n",
    "                                 (0.1307,), (0.3081,))\n",
    "                             ])),\n",
    "  batch_size=batch_size_test, shuffle=True)"
   ]
  },
  {
   "cell_type": "code",
   "execution_count": null,
   "metadata": {},
   "outputs": [],
   "source": [
    "## Load the data\n",
    "\n",
    "transform = transforms.Compose([transforms.ToTensor(), \n",
    "                                torchvision.transforms.Normalize((0.1307,), (0.3081,))])\n",
    "\n",
    "trainset = torchvision.datasets.MNIST(root='./data', train=True,\n",
    "                                        download=True, transform=transform)\n",
    "trainloader = torch.utils.data.DataLoader(trainset, batch_size=32,\n",
    "                                          shuffle=True, num_workers=2)\n",
    "\n",
    "testset = torchvision.datasets.MNIST(root='./data', train=False,\n",
    "                                       download=True, transform=transform)\n",
    "testloader = torch.utils.data.DataLoader(testset, batch_size=32,\n",
    "                                         shuffle=False, num_workers=2)\n",
    "\n",
    "classes = tuple(range(10))"
   ]
  },
  {
   "cell_type": "code",
   "execution_count": 51,
   "metadata": {},
   "outputs": [],
   "source": [
    "## Define the neural net\n",
    "\n",
    "class Net(nn.Module):\n",
    "    \n",
    "    def __init__(self):\n",
    "        super(Net, self).__init__()\n",
    "        # Convolution layers\n",
    "        self.conv1 = nn.Conv2d(1,6,3)\n",
    "        self.conv2 = nn.Conv2d(6,16,3)\n",
    "        \n",
    "        # Affine operations Ax+b\n",
    "        self.fc1 = nn.Linear(16 * 5 * 5, 120)\n",
    "        self.fc2 = nn.Linear(120, 84)\n",
    "        self.fc3 = nn.Linear(84, 10)\n",
    "        \n",
    "    def forward(self, x):\n",
    "        # Convolutions + max pooling over a 2x2 window\n",
    "        x = F.max_pool2d(F.relu(self.conv1(x)), (2, 2))\n",
    "        x = F.max_pool2d(F.relu(self.conv2(x)), 2)\n",
    "        \n",
    "        x = x.view(-1, self.num_flat_features(x))\n",
    "        # Affine transformations\n",
    "        x = F.relu(self.fc1(x))\n",
    "        x = F.relu(self.fc2(x))\n",
    "        x = self.fc3(x)\n",
    "        \n",
    "        return x\n",
    "    \n",
    "    def num_flat_features(self, x):\n",
    "        size = x.size()[1:] # Discard the batch dimension\n",
    "        num_features = 1\n",
    "        for s in size:\n",
    "            num_features *= s\n",
    "            \n",
    "        return num_features"
   ]
  },
  {
   "cell_type": "code",
   "execution_count": 221,
   "metadata": {},
   "outputs": [
    {
     "name": "stdout",
     "output_type": "stream",
     "text": [
      "[1, 200] loss: 0.00173961341381073\n",
      "[1, 400] loss: 0.0022546304762363434\n",
      "[1, 600] loss: 0.0009170521795749665\n",
      "[1, 800] loss: 0.0004688012972474098\n",
      "[1, 1000] loss: 0.0006367313116788864\n",
      "[1, 1200] loss: 0.0005606236308813095\n",
      "[1, 1400] loss: 0.0004680261015892029\n",
      "[1, 1600] loss: 3.516363445669413e-05\n",
      "[1, 1800] loss: 0.0020598261058330535\n",
      "[2, 200] loss: 0.00017335735261440278\n",
      "[2, 400] loss: 0.0014783193171024323\n",
      "[2, 600] loss: 0.00037808820605278015\n",
      "[2, 800] loss: 0.0010314495116472244\n",
      "[2, 1000] loss: 0.000377642847597599\n",
      "[2, 1200] loss: 0.0002714717574417591\n",
      "[2, 1400] loss: 1.964168157428503e-05\n",
      "[2, 1600] loss: 6.087426096200943e-05\n",
      "[2, 1800] loss: 0.0001664086803793907\n",
      "[3, 200] loss: 0.00047371715307235716\n",
      "[3, 400] loss: 1.870901440270245e-05\n",
      "[3, 600] loss: 9.023058228194714e-05\n",
      "[3, 800] loss: 0.00013943318277597427\n",
      "[3, 1000] loss: 1.7886969726532697e-05\n",
      "[3, 1200] loss: 2.2716980893164874e-05\n",
      "[3, 1400] loss: 0.00013994721695780753\n",
      "[3, 1600] loss: 0.0003911813721060753\n",
      "[3, 1800] loss: 0.00021271370351314545\n",
      "Finished training\n"
     ]
    }
   ],
   "source": [
    "## Train the neural net\n",
    "\n",
    "net = Net()\n",
    "criterion = nn.CrossEntropyLoss()\n",
    "optimizer = torch.optim.Adam(net.parameters(), lr=0.001)\n",
    "n_print = 200\n",
    "for epoch in range(3):\n",
    "    running_loss = 0.\n",
    "    for i, data in enumerate(trainloader, 0):\n",
    "        inputs, labels = data\n",
    "        optimizer.zero_grad()\n",
    "        \n",
    "        outputs = net(inputs)\n",
    "        loss = criterion(outputs, labels)\n",
    "        loss.backward()\n",
    "        optimizer.step()\n",
    "        \n",
    "        running_loss += loss.item()\n",
    "        if i % n_print == n_print-1:\n",
    "            print(\"[{}, {}] loss: {}\".format(epoch+1, i+1, running_loss/n_print))\n",
    "            running_loss = 0.\n",
    "        running_loss = 0.\n",
    "            \n",
    "print(\"Finished training\")"
   ]
  },
  {
   "cell_type": "code",
   "execution_count": 225,
   "metadata": {},
   "outputs": [
    {
     "data": {
      "text/plain": [
       "0.01759999990463257"
      ]
     },
     "execution_count": 225,
     "metadata": {},
     "output_type": "execute_result"
    }
   ],
   "source": [
    "## Misclassification error on test set\n",
    "\n",
    "misclassified = 0\n",
    "for i, data in enumerate(testloader, 0):\n",
    "    images, labels = data\n",
    "    out = net(images)\n",
    "    misclassified += torch.sum(torch.max(out, 1).indices != labels)\n",
    "\n",
    "(misclassified/len(testset)).item()"
   ]
  },
  {
   "cell_type": "code",
   "execution_count": 226,
   "metadata": {},
   "outputs": [
    {
     "data": {
      "text/plain": [
       "0.015716666355729103"
      ]
     },
     "execution_count": 226,
     "metadata": {},
     "output_type": "execute_result"
    }
   ],
   "source": [
    "## Misclassification error on train set\n",
    "\n",
    "misclassified = 0\n",
    "for i, data in enumerate(trainloader, 0):\n",
    "    images, labels = data\n",
    "    out = net(images)\n",
    "    misclassified += torch.sum(torch.max(out, 1).indices != labels)\n",
    "\n",
    "(misclassified/len(trainset)).item()"
   ]
  }
 ],
 "metadata": {
  "kernelspec": {
   "display_name": "Python 3",
   "language": "python",
   "name": "python3"
  },
  "language_info": {
   "codemirror_mode": {
    "name": "ipython",
    "version": 3
   },
   "file_extension": ".py",
   "mimetype": "text/x-python",
   "name": "python",
   "nbconvert_exporter": "python",
   "pygments_lexer": "ipython3",
   "version": "3.8.8"
  }
 },
 "nbformat": 4,
 "nbformat_minor": 4
}
