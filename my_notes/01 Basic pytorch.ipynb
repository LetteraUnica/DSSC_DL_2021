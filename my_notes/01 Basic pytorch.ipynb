{
 "cells": [
  {
   "cell_type": "code",
   "execution_count": 1,
   "metadata": {},
   "outputs": [],
   "source": [
    "import numpy as np\n",
    "import torch"
   ]
  },
  {
   "cell_type": "code",
   "execution_count": 23,
   "metadata": {},
   "outputs": [
    {
     "name": "stdout",
     "output_type": "stream",
     "text": [
      "tensor([[1.4068, 1.5860, 1.3254],\n",
      "        [1.0115, 1.9958, 1.7099],\n",
      "        [1.5171, 1.7475, 1.9110],\n",
      "        [1.1012, 1.8278, 1.5081],\n",
      "        [1.1725, 1.5103, 1.7078]])\n",
      "tensor([[1.4068, 1.5860, 1.3254],\n",
      "        [1.0115, 1.9958, 1.7099],\n",
      "        [1.5171, 1.7475, 1.9110],\n",
      "        [1.1012, 1.8278, 1.5081],\n",
      "        [1.1725, 1.5103, 1.7078]])\n"
     ]
    }
   ],
   "source": [
    "x = torch.empty(5,3)\n",
    "\n",
    "x = x.new_ones(5, 3)\n",
    "y = torch.rand(x.shape)\n",
    "\n",
    "print(x+y)\n",
    "print(torch.add(x, y))"
   ]
  },
  {
   "cell_type": "code",
   "execution_count": 24,
   "metadata": {},
   "outputs": [
    {
     "data": {
      "text/plain": [
       "tensor([[1.4068, 1.5860, 1.3254],\n",
       "        [1.0115, 1.9958, 1.7099],\n",
       "        [1.5171, 1.7475, 1.9110],\n",
       "        [1.1012, 1.8278, 1.5081],\n",
       "        [1.1725, 1.5103, 1.7078]])"
      ]
     },
     "execution_count": 24,
     "metadata": {},
     "output_type": "execute_result"
    }
   ],
   "source": [
    "result = torch.empty(x.shape)\n",
    "torch.add(x, y, out = result)\n",
    "result"
   ]
  },
  {
   "cell_type": "code",
   "execution_count": 37,
   "metadata": {},
   "outputs": [
    {
     "data": {
      "text/plain": [
       "tensor([[7.4068, 7.5860, 7.3254],\n",
       "        [7.0115, 7.9958, 7.7099],\n",
       "        [7.5171, 7.7475, 7.9110],\n",
       "        [7.1012, 7.8278, 7.5081],\n",
       "        [7.1725, 7.5103, 7.7078]])"
      ]
     },
     "execution_count": 37,
     "metadata": {},
     "output_type": "execute_result"
    }
   ],
   "source": [
    "## Any operation that mutates a tensor in place is post fixed by a _\n",
    "y.add_(x)"
   ]
  },
  {
   "cell_type": "code",
   "execution_count": 59,
   "metadata": {},
   "outputs": [
    {
     "name": "stdout",
     "output_type": "stream",
     "text": [
      "torch.Size([4, 4]) torch.Size([16]) torch.Size([2, 8])\n"
     ]
    }
   ],
   "source": [
    "x = torch.randn(4,4)\n",
    "y = x.view(16)\n",
    "z = x.view(-1, 8)\n",
    "print(x.size(), y.size(), z.size())"
   ]
  },
  {
   "cell_type": "code",
   "execution_count": 75,
   "metadata": {},
   "outputs": [
    {
     "name": "stdout",
     "output_type": "stream",
     "text": [
      "<class 'numpy.ndarray'>\n",
      "<class 'torch.Tensor'>\n"
     ]
    }
   ],
   "source": [
    "x = torch.randn(4,4)\n",
    "x = x.numpy() ## converts torch tensor to numpy array\n",
    "print(type(x))\n",
    "\n",
    "x = torch.from_numpy(x) ## converts numby array to torch tensor\n",
    "print(type(x))"
   ]
  },
  {
   "cell_type": "code",
   "execution_count": 80,
   "metadata": {},
   "outputs": [],
   "source": [
    "if (torch.cuda.is_available()):\n",
    "    device = torch.device(\"cuda\")\n",
    "    y = torch.ones_like(x, device=device)\n",
    "    x = x.to(\"cuda\", torch.float32)\n",
    "    z = x+y\n",
    "    z.to(\"cpu\", torch.double)"
   ]
  },
  {
   "cell_type": "code",
   "execution_count": 86,
   "metadata": {},
   "outputs": [
    {
     "name": "stdout",
     "output_type": "stream",
     "text": [
      "171 ms ± 747 µs per loop (mean ± std. dev. of 7 runs, 10 loops each)\n"
     ]
    }
   ],
   "source": [
    "%timeit torch.lu(torch.randn(5000, 5000, device=\"cuda\"))"
   ]
  },
  {
   "cell_type": "code",
   "execution_count": 87,
   "metadata": {},
   "outputs": [
    {
     "name": "stdout",
     "output_type": "stream",
     "text": [
      "820 ms ± 26.2 ms per loop (mean ± std. dev. of 7 runs, 1 loop each)\n"
     ]
    }
   ],
   "source": [
    "%timeit torch.lu(torch.randn(5000, 5000, device=\"cpu\"))"
   ]
  }
 ],
 "metadata": {
  "kernelspec": {
   "display_name": "Python 3",
   "language": "python",
   "name": "python3"
  },
  "language_info": {
   "codemirror_mode": {
    "name": "ipython",
    "version": 3
   },
   "file_extension": ".py",
   "mimetype": "text/x-python",
   "name": "python",
   "nbconvert_exporter": "python",
   "pygments_lexer": "ipython3",
   "version": "3.8.3"
  }
 },
 "nbformat": 4,
 "nbformat_minor": 4
}
