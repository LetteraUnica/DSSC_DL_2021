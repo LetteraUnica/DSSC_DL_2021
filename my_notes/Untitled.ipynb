{
 "cells": [
  {
   "cell_type": "code",
   "execution_count": 1,
   "metadata": {},
   "outputs": [],
   "source": [
    "import numpy as np\n",
    "import pylab as pl\n",
    "from scipy import optimize\n",
    "from numdifftools import Gradient, Derivative"
   ]
  },
  {
   "cell_type": "code",
   "execution_count": 31,
   "metadata": {},
   "outputs": [
    {
     "name": "stdout",
     "output_type": "stream",
     "text": [
      "[(4.239767651589691e-09+1.0023587343686245e-97j), (-4.239768830552634e-09-1.0013419504544152e-97j), (2.0499437627276765e-06+0j)]\n",
      "      converged: True\n",
      "           flag: 'converged'\n",
      " function_calls: 54\n",
      "     iterations: 18\n",
      "           root: (-7.772440292535378e-10+0j)\n"
     ]
    },
    {
     "data": {
      "text/plain": [
       "[<matplotlib.lines.Line2D at 0x7f6942108d00>]"
      ]
     },
     "execution_count": 31,
     "metadata": {},
     "output_type": "execute_result"
    },
    {
     "data": {
      "image/png": "[encoded data removed]",
      "text/plain": [
       "<Figure size 432x288 with 1 Axes>"
      ]
     },
     "metadata": {
      "needs_background": "light"
     },
     "output_type": "display_data"
    }
   ],
   "source": [
    "def f(x):\n",
    "    return np.exp(np.sin(x**2)) - 1\n",
    "\n",
    "df = Derivative(f)\n",
    "ddf = Derivative(df)\n",
    "\n",
    "x0 = 1. + 0*1j\n",
    "x00 = x0\n",
    "x000 = x0\n",
    "x0000 = x0\n",
    "for i in range(19):\n",
    "    delta = np.sqrt(df(x0)**2 - 2*f(x0)*ddf(x0))\n",
    "    x1 = x0 + (-df(x0) + delta) / ddf(x0)\n",
    "    x2 = x0 + (-df(x0) - delta) / ddf(x0)\n",
    "    #x0 = np.min(np.abs([x1-x0, x2-x0]))\n",
    "    x0 = x1\n",
    "    x00 = x2\n",
    "    x000 = x000 - f(x000)/df(x000)\n",
    "print([x0, x00, x000])\n",
    "\n",
    "print(optimize.root_scalar(f, fprime=df, fprime2=ddf, x0 = x0000))\n",
    "t = np.linspace(-1, 1, 1000)\n",
    "pl.plot(t, f(t))"
   ]
  },
  {
   "cell_type": "code",
   "execution_count": 2,
   "metadata": {},
   "outputs": [],
   "source": [
    "from scipy.special import factorial, binom\n",
    "from scipy import stats\n",
    "%matplotlib qt"
   ]
  },
  {
   "cell_type": "code",
   "execution_count": 4,
   "metadata": {},
   "outputs": [
    {
     "name": "stdout",
     "output_type": "stream",
     "text": [
      "[0.000e+00 1.000e-09 2.560e-06 2.187e-04 4.096e-03 3.125e-02 1.296e-01\n",
      " 3.430e-01 6.400e-01 9.000e-01 1.000e+00]\n",
      "8.7173350232371 1.2211234510398998\n"
     ]
    },
    {
     "data": {
      "text/plain": [
       "[<matplotlib.lines.Line2D at 0x7f2d8cd990a0>]"
      ]
     },
     "execution_count": 4,
     "metadata": {},
     "output_type": "execute_result"
    }
   ],
   "source": [
    "N = 10.\n",
    "k = np.arange(0, N+1, 1)\n",
    "\n",
    "res = binom(N, k) * factorial(k) * N**(-k) * (k/N)**(N-k)\n",
    "print(res)\n",
    "res = res/np.sum(res)\n",
    "\n",
    "mu = np.sum(k * res)\n",
    "std = np.sqrt(np.sum((k-mu)**2 * res))\n",
    "print(mu, std)\n",
    "\n",
    "pl.plot(k, stats.norm.pdf(k, mu, std))\n",
    "pl.plot(k, res)"
   ]
  },
  {
   "cell_type": "code",
   "execution_count": 21,
   "metadata": {},
   "outputs": [
    {
     "data": {
      "text/plain": [
       "500.3372344389515"
      ]
     },
     "execution_count": 21,
     "metadata": {},
     "output_type": "execute_result"
    }
   ],
   "source": [
    "def p(N, k):\n",
    "    return (N-k)/N\n",
    "\n",
    "\n",
    "N = 500.\n",
    "k = 316.\n",
    "j = np.arange(0, k+1)\n",
    "np.sum(N / (N-j))"
   ]
  },
  {
   "cell_type": "code",
   "execution_count": 48,
   "metadata": {},
   "outputs": [
    {
     "name": "stdout",
     "output_type": "stream",
     "text": [
      "44.56360801955594 44.045114079440495\n"
     ]
    },
    {
     "data": {
      "text/plain": [
       "[<matplotlib.lines.Line2D at 0x7f6bb0c18dc0>]"
      ]
     },
     "execution_count": 48,
     "metadata": {},
     "output_type": "execute_result"
    }
   ],
   "source": [
    "from scipy.stats import norm, t\n",
    "\n",
    "mu, std = np.mean(a), np.std(a, ddof=1)/np.sqrt(a.size)\n",
    "rv = norm(mu, std)\n",
    "print(rv.ppf(0.01/2), t.ppf(0.01/2, a.size-1, mu, std))\n",
    "\n",
    "x = np.linspace(0, 100, 1000)\n",
    "%matplotlib qt\n",
    "pl.plot(x, rv.pdf(x))\n",
    "pl.plot(x, t.pdf(x, a.size-1, mu, std))"
   ]
  },
  {
   "cell_type": "code",
   "execution_count": 41,
   "metadata": {},
   "outputs": [
    {
     "name": "stdout",
     "output_type": "stream",
     "text": [
      "0.006068\n"
     ]
    },
    {
     "data": {
      "text/plain": [
       "(array([6.40000e+01, 1.84000e+03, 2.53580e+04, 1.41120e+05, 3.30005e+05,\n",
       "        3.30147e+05, 1.43485e+05, 2.59810e+04, 1.93600e+03, 6.40000e+01]),\n",
       " array([36.1   , 39.8125, 43.525 , 47.2375, 50.95  , 54.6625, 58.375 ,\n",
       "        62.0875, 65.8   , 69.5125, 73.225 ]),\n",
       " <a list of 10 Patch objects>)"
      ]
     },
     "execution_count": 41,
     "metadata": {},
     "output_type": "execute_result"
    },
    {
     "data": {
      "image/png": "[encoded data removed]",
      "text/plain": [
       "<Figure size 432x288 with 1 Axes>"
      ]
     },
     "metadata": {
      "needs_background": "light"
     },
     "output_type": "display_data"
    }
   ],
   "source": [
    "a = np.array([64, 95, 28, 64, 62, 54, 92, 96, 86, 69, 102, 75, 33, 33,\n",
    "              68, 86, 45, 37, 59, 20, 33, 18, 7, 18, 38, 66, 45, 66, 80,\n",
    "              69, 58, 44, 41, 70, 25, 51, 71, 68, 13, 38])\n",
    "n = 1000000\n",
    "b = np.mean(np.random.choice(a, (a.size, n)), 0)\n",
    "\n",
    "print(np.sum(b<45)/n)\n",
    "pl.hist(b)"
   ]
  },
  {
   "cell_type": "code",
   "execution_count": 52,
   "metadata": {},
   "outputs": [
    {
     "name": "stdout",
     "output_type": "stream",
     "text": [
      "[[[[0.00996671 0.04786269 0.08400692]\n",
      "   [0.04786269 0.22984885 0.40342268]\n",
      "   [0.08400692 0.40342268 0.70807342]]\n",
      "\n",
      "  [[0.01983384 0.08400692 0.09077827]\n",
      "   [0.09524715 0.40342268 0.43594041]\n",
      "   [0.16717448 0.70807342 0.7651474 ]]\n",
      "\n",
      "  [[0.02950279 0.09958333 0.01408849]\n",
      "   [0.14167993 0.47822457 0.06765654]\n",
      "   [0.24867168 0.83936309 0.11874839]]]\n",
      "\n",
      "\n",
      " [[[0.01983384 0.09524715 0.16717448]\n",
      "   [0.08400692 0.40342268 0.70807342]\n",
      "   [0.09077827 0.43594041 0.7651474 ]]\n",
      "\n",
      "  [[0.0394695  0.16717448 0.18064951]\n",
      "   [0.16717448 0.70807342 0.7651474 ]\n",
      "   [0.18064951 0.7651474  0.82682181]]\n",
      "\n",
      "  [[0.0587108  0.19817166 0.02803622]\n",
      "   [0.24867168 0.83936309 0.11874839]\n",
      "   [0.26871576 0.90701962 0.12832006]]]\n",
      "\n",
      "\n",
      " [[[0.02950279 0.14167993 0.24867168]\n",
      "   [0.09958333 0.47822457 0.83936309]\n",
      "   [0.01408849 0.06765654 0.11874839]]\n",
      "\n",
      "  [[0.0587108  0.24867168 0.26871576]\n",
      "   [0.19817166 0.83936309 0.90701962]\n",
      "   [0.02803622 0.11874839 0.12832006]]\n",
      "\n",
      "  [[0.08733219 0.29477992 0.04170381]\n",
      "   [0.29477992 0.99499625 0.1407665 ]\n",
      "   [0.04170381 0.1407665  0.01991486]]]]\n"
     ]
    }
   ],
   "source": [
    "def mix_array(a, b):\n",
    "    return a.reshape(a.size, 1) @ b.reshape(1, b.size)\n",
    "\n",
    "def eval2d(f, g, x1, x2):\n",
    "    a = f(x1)\n",
    "    b = g(x2)\n",
    "    return a.reshape(a.size, 1) @ b.reshape(1, b.size)\n",
    "\n",
    "def basis(points, N):\n",
    "    n = points.size\n",
    "    x = np.lispace(np.min(x), np.max(x), N)\n",
    "    for i in range(n):\n",
    "        for j in range(n):\n",
    "            if (i==j): continue\n",
    "            base[i, j] *= (x*x[i])/(x[i]-x[j])\n",
    "    return base\n",
    "\n",
    "def nd_basis(basis, x1, x2):\n",
    "    x1_basis = basis(x1)\n",
    "    x2_basis = basis(x2)\n",
    "    n1 = x1_basis.shape[0]\n",
    "    n2 = x2_basis.shape[0]\n",
    "\n",
    "    return x1_basis.reshape(n1, 1, n1, 1) @ x2_basis.reshape(1, n2, 1, n2)\n",
    "\n",
    "\n",
    "\n",
    "a = nd_basis(basis, np.array([0.1,0.5,1]), np.array([0.1,0.5,1]))\n",
    "print(a)"
   ]
  },
  {
   "cell_type": "code",
   "execution_count": 53,
   "metadata": {},
   "outputs": [
    {
     "name": "stdout",
     "output_type": "stream",
     "text": [
      "[[[[0. 0. 0.]\n",
      "   [0. 0. 0.]\n",
      "   [0. 0. 0.]]\n",
      "\n",
      "  [[0. 0. 0.]\n",
      "   [0. 0. 0.]\n",
      "   [0. 0. 0.]]\n",
      "\n",
      "  [[0. 0. 0.]\n",
      "   [0. 0. 0.]\n",
      "   [0. 0. 0.]]]\n",
      "\n",
      "\n",
      " [[[0. 0. 0.]\n",
      "   [0. 0. 0.]\n",
      "   [0. 0. 0.]]\n",
      "\n",
      "  [[0. 0. 0.]\n",
      "   [0. 0. 0.]\n",
      "   [0. 0. 0.]]\n",
      "\n",
      "  [[0. 0. 0.]\n",
      "   [0. 0. 0.]\n",
      "   [0. 0. 0.]]]\n",
      "\n",
      "\n",
      " [[[0. 0. 0.]\n",
      "   [0. 0. 0.]\n",
      "   [0. 0. 0.]]\n",
      "\n",
      "  [[0. 0. 0.]\n",
      "   [0. 0. 0.]\n",
      "   [0. 0. 0.]]\n",
      "\n",
      "  [[0. 0. 0.]\n",
      "   [0. 0. 0.]\n",
      "   [0. 0. 0.]]]]\n"
     ]
    }
   ],
   "source": [
    "def nd_basis(basis, x1, x2):\n",
    "    x1_basis = basis(x1)\n",
    "    x2_basis = basis(x2)\n",
    "    n1 = x1_basis.shape[0]\n",
    "    n2 = x2_basis.shape[0]\n",
    "    \n",
    "    n_basis = np.empty((n1, n2, n1, n2))\n",
    "    for i in range(n1):\n",
    "        for j in range(n2):\n",
    "            n_basis[i, j] = mix_array(x1_basis[i], x2_basis[j])\n",
    "            \n",
    "    a.reshape(a.size, 1) @ b.reshape(1, b.size)\n",
    "    return x1_basis.reshape(n1, 1, n1, 1) @ x2_basis.reshape(1, n2, 1, n2)\n",
    "\n",
    "b = nd_basis(basis, np.array([0.1,0.5,1]), np.array([0.1,0.5,1]))\n",
    "print(b-a)"
   ]
  }
 ],
 "metadata": {
  "kernelspec": {
   "display_name": "Python 3",
   "language": "python",
   "name": "python3"
  },
  "language_info": {
   "codemirror_mode": {
    "name": "ipython",
    "version": 3
   },
   "file_extension": ".py",
   "mimetype": "text/x-python",
   "name": "python",
   "nbconvert_exporter": "python",
   "pygments_lexer": "ipython3",
   "version": "3.8.3"
  }
 },
 "nbformat": 4,
 "nbformat_minor": 4
}
